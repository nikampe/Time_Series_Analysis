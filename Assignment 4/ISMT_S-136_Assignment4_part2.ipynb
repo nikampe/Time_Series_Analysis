{
 "cells": [
  {
   "cell_type": "markdown",
   "metadata": {},
   "source": [
    "## Name:\n",
    "### ISMT S-136 Time Series Analysis with Python   \n",
    "### Part II of Assignment 4"
   ]
  },
  {
   "cell_type": "markdown",
   "metadata": {},
   "source": [
    "## Problem 1 (10 points)\n",
    "In this problem, we will study analitical properties of AR(1) process using Python. Please consider the following AR(1) time series   \n",
    "\n",
    "$$(1-\\phi B)x_t=w_t,$$   \n",
    "where  $w_t$ is Gaussian White Noise with $Var(w_t)=1$. Here, $B$ denotes the backshift operator.\n",
    "\n",
    "(a) For $\\phi=0.5$, use ArmaProcess() method of statsmodels.tsa to create an object that corresponds to AR(1) process. Compute the ACF for lags between 0 and 40. Discuss the results; specifically, observe what you obtained for $\\rho(h)$ of the AR(1) process at lag $h=2$ and compare it with its analytical solution we derived in case of $\\phi=0.5$. Plot the ACF; make sure to indicate the value of $\\phi$ in the title. Finally, compare the ACF with the sample ACF you obtained in the Assignment 3. Discuss. \n",
    "\n",
    "(b) Use Python to check causality of the process in (a) and if causal, compute first 40 coefficients of the MA representation. Discuss whether you expected this result regarding causality. If causal, explain what these coefficients mean and comment on the value of the $\\psi_3$ coefficient of the MA representation.\n",
    "\n",
    "(c) Use Python to check invertibility of the process in (b) and if invertible, compute first 40 coefficients of the AR representation. Discuss. If invertible, comment on the $\\psi_3$ coefficient of the AR representation.\n",
    "\n",
    "(d) Repeat (a)-(c) for AR(1) with $\\phi=-0.5$. Answer the questions."
   ]
  },
  {
   "cell_type": "markdown",
   "metadata": {},
   "source": [
    "SOLUTION:"
   ]
  },
  {
   "cell_type": "code",
   "execution_count": 61,
   "metadata": {},
   "outputs": [],
   "source": [
    "import numpy as np\n",
    "import matplotlib.pyplot as plt\n",
    "import statsmodels.tsa.api as smt\n",
    "\n",
    "from statsmodels.graphics.tsaplots import plot_acf \n",
    "from statsmodels.tsa.stattools import acf"
   ]
  },
  {
   "cell_type": "markdown",
   "metadata": {},
   "source": [
    "(a)"
   ]
  },
  {
   "cell_type": "code",
   "execution_count": 62,
   "metadata": {},
   "outputs": [
    {
     "name": "stdout",
     "output_type": "stream",
     "text": [
      "Rho at lag 2:  0.25\n"
     ]
    },
    {
     "data": {
      "image/png": "[encoded data removed]",
      "text/plain": [
       "<Figure size 1152x288 with 1 Axes>"
      ]
     },
     "metadata": {
      "needs_background": "light"
     },
     "output_type": "display_data"
    }
   ],
   "source": [
    "# AR(1) with phi = 0.5\n",
    "phi = np.array([0.5])\n",
    "theta = np.array([0.])\n",
    "\n",
    "ar = np.r_[1, -phi]\n",
    "ma = np.r_[1, theta]\n",
    "sigma = 1\n",
    "\n",
    "arma_process = smt.ArmaProcess(ar, ma)\n",
    "\n",
    "h_max = 40\n",
    "rho = arma_process.acf(h_max)\n",
    "\n",
    "print(\"Rho at lag 2: \", rho[2])\n",
    "\n",
    "plt.figure(figsize=(16,4))\n",
    "plt.plot(rho,linestyle='None',marker='o')\n",
    "plt.ylim(-0.1, 1.1)\n",
    "plt.axhline(linewidth=1, color='k')\n",
    "plt.xlabel(\"Lag\")\n",
    "plt.ylabel(\"ACF\")\n",
    "plt.title(\"ACF of AR(1) with $\\phi = 0.5$\")\n",
    "plt.grid(True)"
   ]
  },
  {
   "cell_type": "markdown",
   "metadata": {},
   "source": [
    "The ACF of the AR(1) process with $\\phi = 0.5$ obviously equals 1 at lag zero (which is always the case as the correlation with itself is one). From lag 1 on, the ACF strictly declines \"exponentially\" and converges to zero. After lag 1, the autocorrelation is already under $1/2$ and becomes insignificant at around lag 5."
   ]
  },
  {
   "cell_type": "markdown",
   "metadata": {},
   "source": [
    "The analytical/theoretical solution of the autocorrelation at lag 2 of an AR(1) process is calculated as $\\rho(h) = \\phi^h$, so therefore as $\\rho(2) = \\phi^2$. As $\\phi = 0.5$, the theoretical solution to $\\rho(2)$ is $0.5^2 = 0.25$. As the solutions above show $\\rho = 0.25$, the autocorrelation at lag 2 equals the analytical/theoretical autocorrelation at lag 2."
   ]
  },
  {
   "cell_type": "code",
   "execution_count": 63,
   "metadata": {},
   "outputs": [
    {
     "data": {
      "image/png": "[encoded data removed]",
      "text/plain": [
       "<Figure size 432x288 with 1 Axes>"
      ]
     },
     "metadata": {
      "needs_background": "light"
     },
     "output_type": "display_data"
    }
   ],
   "source": [
    "np.random.seed(12345678)\n",
    "n = int(400)\n",
    "phi = np.array([0.5])\n",
    "theta = np.array([0])\n",
    "AR = np.r_[1, -phi]\n",
    "MA = np.r_[1, theta]\n",
    "sigma = 1\n",
    "xt = smt.arma_generate_sample(ar = AR, ma = MA, scale = sigma, nsample = n)\n",
    "\n",
    "fig = plot_acf(xt,lags = 20)\n",
    "plt.xlabel(\"Lags\")\n",
    "plt.ylabel(\"Sample ACF\")\n",
    "plt.title(\"Sample ACF of AR(1) with $\\phi=0.5$\")\n",
    "plt.show()"
   ]
  },
  {
   "cell_type": "markdown",
   "metadata": {},
   "source": [
    "The ACF plot compared to the Sample ACF plot from assignment 3 indicates the correct strictly declining and zero-converging autocorrelation over the lags. Furthermore, the Sample ACF indicated negative correlations which are not observable in the ACF. Therefore, the autocorrelations in both plots up to lag 5 look similar and have similar values, but the negative autocorrelations, the general structure and non-strictly declining values towards zero of the sample ACF after lag 9 show a bias which might be rooted in the sample."
   ]
  },
  {
   "cell_type": "markdown",
   "metadata": {},
   "source": [
    "(b)"
   ]
  },
  {
   "cell_type": "code",
   "execution_count": 64,
   "metadata": {},
   "outputs": [
    {
     "data": {
      "text/plain": [
       "True"
      ]
     },
     "execution_count": 64,
     "metadata": {},
     "output_type": "execute_result"
    }
   ],
   "source": [
    "arma_process.isstationary"
   ]
  },
  {
   "cell_type": "code",
   "execution_count": 65,
   "metadata": {},
   "outputs": [
    {
     "name": "stdout",
     "output_type": "stream",
     "text": [
      "[1.00000000e+00 5.00000000e-01 2.50000000e-01 1.25000000e-01\n",
      " 6.25000000e-02 3.12500000e-02 1.56250000e-02 7.81250000e-03\n",
      " 3.90625000e-03 1.95312500e-03 9.76562500e-04 4.88281250e-04\n",
      " 2.44140625e-04 1.22070312e-04 6.10351562e-05 3.05175781e-05\n",
      " 1.52587891e-05 7.62939453e-06 3.81469727e-06 1.90734863e-06\n",
      " 9.53674316e-07 4.76837158e-07 2.38418579e-07 1.19209290e-07\n",
      " 5.96046448e-08 2.98023224e-08 1.49011612e-08 7.45058060e-09\n",
      " 3.72529030e-09 1.86264515e-09 9.31322575e-10 4.65661287e-10\n",
      " 2.32830644e-10 1.16415322e-10 5.82076609e-11 2.91038305e-11\n",
      " 1.45519152e-11 7.27595761e-12 3.63797881e-12 1.81898940e-12]\n",
      "psi(3) 0.125\n"
     ]
    }
   ],
   "source": [
    "psi = arma_process.arma2ma(lags = 40)\n",
    "print(psi)\n",
    "print(\"psi(3)\",psi[3])"
   ]
  },
  {
   "cell_type": "markdown",
   "metadata": {},
   "source": [
    "As the coefficient of the AR(1) process is $\\phi = 0.5$ and therefore $|\\phi| < 1$, which defines the causality requirement of an AR(1) process, the result that the process is causal was expected."
   ]
  },
  {
   "cell_type": "markdown",
   "metadata": {},
   "source": [
    "An AR(1) process is called causal, if it can be represented by $x_t = \\psi(B) * w_t$, where the coefficients $\\psi-operator$ is defined as $\\psi (B) = \\psi_o + \\psi_1B + \\psi_2B + ...$, so it can be represented by an MA-infinity process. Furthermore, $\\psi_3 = 0.125$, which means that the white noise process-element $w_3$ affects $x_t$ with a weighting of 0.125 if the AR(1) process is represented as an MA-infinity process , so only based on the white noise residuals."
   ]
  },
  {
   "cell_type": "markdown",
   "metadata": {},
   "source": [
    "(c)"
   ]
  },
  {
   "cell_type": "code",
   "execution_count": 66,
   "metadata": {},
   "outputs": [
    {
     "data": {
      "text/plain": [
       "True"
      ]
     },
     "execution_count": 66,
     "metadata": {},
     "output_type": "execute_result"
    }
   ],
   "source": [
    "arma_process.isinvertible"
   ]
  },
  {
   "cell_type": "code",
   "execution_count": 67,
   "metadata": {},
   "outputs": [
    {
     "name": "stdout",
     "output_type": "stream",
     "text": [
      "[ 1.  -0.5  0.   0.   0.   0.   0.   0.   0.   0.   0.   0.   0.   0.\n",
      "  0.   0.   0.   0.   0.   0.   0.   0.   0.   0.   0.   0.   0.   0.\n",
      "  0.   0.   0.   0.   0.   0.   0.   0.   0.   0.   0.   0. ]\n",
      "psi(3) 0.0\n"
     ]
    }
   ],
   "source": [
    "psi = arma_process.arma2ar(lags = 40)\n",
    "print(psi)\n",
    "print(\"psi(3)\",psi[3])"
   ]
  },
  {
   "cell_type": "markdown",
   "metadata": {},
   "source": [
    "As AR(p) and therefore also AR(1) processes are always invertible by definition, the result was expected."
   ]
  },
  {
   "cell_type": "markdown",
   "metadata": {},
   "source": [
    "(d)"
   ]
  },
  {
   "cell_type": "code",
   "execution_count": 68,
   "metadata": {},
   "outputs": [
    {
     "name": "stdout",
     "output_type": "stream",
     "text": [
      "Rho at lag 2:  0.25\n"
     ]
    },
    {
     "data": {
      "image/png": "[encoded data removed]",
      "text/plain": [
       "<Figure size 1152x288 with 1 Axes>"
      ]
     },
     "metadata": {
      "needs_background": "light"
     },
     "output_type": "display_data"
    }
   ],
   "source": [
    "# AR(1) with phi = -0.5\n",
    "phi = np.array([-0.5])\n",
    "theta = np.array([0.])\n",
    "\n",
    "ar = np.r_[1, -phi]\n",
    "ma = np.r_[1, theta]\n",
    "sigma = 1\n",
    "\n",
    "arma_process = smt.ArmaProcess(ar, ma)\n",
    "\n",
    "h_max = 40\n",
    "rho = arma_process.acf(h_max)\n",
    "\n",
    "print(\"Rho at lag 2: \", rho[2])\n",
    "\n",
    "plt.figure(figsize=(16,4))\n",
    "plt.plot(rho,linestyle='None',marker='o')\n",
    "plt.ylim(-1.1, 1.1)\n",
    "plt.axhline(linewidth=1, color='k')\n",
    "plt.xlabel(\"Lag\")\n",
    "plt.ylabel(\"ACF\")\n",
    "plt.title(\"ACF of AR(1) with $\\phi = - 0.5$\")\n",
    "plt.grid(True)"
   ]
  },
  {
   "cell_type": "markdown",
   "metadata": {},
   "source": [
    "The ACF of the AR(1) process with $\\phi = - 0.5$ obviously equals 1 at lag zero (which is always the case as the correlation with itself is one). From lag 1 on, the ACF strictly declines in absolute values (with autocorrelations changing the sign after each lag) and converges to zero. The autocorrelation becomes insignificant at around lag 5."
   ]
  },
  {
   "cell_type": "markdown",
   "metadata": {},
   "source": [
    "The analytical/theoretical solution of the autocorrelation at lag 2 of an AR(1) process is calculated as $\\rho(h) = \\phi^h$, so therefore as $\\rho(2) = \\phi^2$. As $\\phi = - 0.5$, the theoretical solution to $\\rho(2)$ is $-0.5^2 = 0.25$. As the solutions above show $\\rho = 0.25$, the autocorrelation at lag 2 equals the analytical/theoretical autocorrelation at lag 2."
   ]
  },
  {
   "cell_type": "code",
   "execution_count": 69,
   "metadata": {},
   "outputs": [
    {
     "data": {
      "image/png": "[encoded data removed]",
      "text/plain": [
       "<Figure size 432x288 with 1 Axes>"
      ]
     },
     "metadata": {
      "needs_background": "light"
     },
     "output_type": "display_data"
    }
   ],
   "source": [
    "np.random.seed(12345678)\n",
    "n = int(400)\n",
    "phi = np.array([-0.5])\n",
    "theta = np.array([0])\n",
    "AR = np.r_[1, -phi]\n",
    "MA = np.r_[1, theta]\n",
    "sigma = 1\n",
    "xt = smt.arma_generate_sample(ar = AR, ma = MA, scale = sigma, nsample = n)\n",
    "\n",
    "fig = plot_acf(xt,lags = 20)\n",
    "plt.xlabel(\"Lags\")\n",
    "plt.ylabel(\"Sample ACF\")\n",
    "plt.title(\"Sample ACF of AR(1) with $\\phi=0.5$\")\n",
    "plt.show()"
   ]
  },
  {
   "cell_type": "markdown",
   "metadata": {},
   "source": [
    "The ACF plot compared to the Sample ACF plot from assignment 3 indicates the correct strictly declining (in absolute values, with changing signs after each lag) and zero-converging autocorrelation over the lags. The autocorrelations in both plots up to lag 5 look similar and have similar values, but the non-strictly declining values in absolute terms towards zero of the sample ACF at and after lag 6 show a bias which might be rooted in the sample."
   ]
  },
  {
   "cell_type": "code",
   "execution_count": 70,
   "metadata": {},
   "outputs": [
    {
     "data": {
      "text/plain": [
       "True"
      ]
     },
     "execution_count": 70,
     "metadata": {},
     "output_type": "execute_result"
    }
   ],
   "source": [
    "arma_process.isstationary"
   ]
  },
  {
   "cell_type": "code",
   "execution_count": 71,
   "metadata": {},
   "outputs": [
    {
     "name": "stdout",
     "output_type": "stream",
     "text": [
      "[ 1.00000000e+00 -5.00000000e-01  2.50000000e-01 -1.25000000e-01\n",
      "  6.25000000e-02 -3.12500000e-02  1.56250000e-02 -7.81250000e-03\n",
      "  3.90625000e-03 -1.95312500e-03  9.76562500e-04 -4.88281250e-04\n",
      "  2.44140625e-04 -1.22070312e-04  6.10351562e-05 -3.05175781e-05\n",
      "  1.52587891e-05 -7.62939453e-06  3.81469727e-06 -1.90734863e-06\n",
      "  9.53674316e-07 -4.76837158e-07  2.38418579e-07 -1.19209290e-07\n",
      "  5.96046448e-08 -2.98023224e-08  1.49011612e-08 -7.45058060e-09\n",
      "  3.72529030e-09 -1.86264515e-09  9.31322575e-10 -4.65661287e-10\n",
      "  2.32830644e-10 -1.16415322e-10  5.82076609e-11 -2.91038305e-11\n",
      "  1.45519152e-11 -7.27595761e-12  3.63797881e-12 -1.81898940e-12]\n",
      "psi(3) -0.125\n"
     ]
    }
   ],
   "source": [
    "psi = arma_process.arma2ma(lags = 40)\n",
    "print(psi)\n",
    "print(\"psi(3)\",psi[3])"
   ]
  },
  {
   "cell_type": "markdown",
   "metadata": {},
   "source": [
    "As the coefficient of the AR(1) process is $\\phi = - 0.5$ and therefore $|\\phi| < 1$, which defines the causality requirement of an AR(1) process, the result that the process is causal was expected."
   ]
  },
  {
   "cell_type": "markdown",
   "metadata": {},
   "source": [
    "An AR(1) process is called causal, if it can be represented by $x_t = \\psi(B) * w_t$, where the coefficients $\\psi-operator$ is defined as $\\psi (B) = \\psi_o + \\psi_1B + \\psi_2B + ...$, so it can be represented by an MA-infinity process. Furthermore, $\\psi_3 = -0.125$, which means that the white noise process-element $w_3$ affects $x_t$ with a weighting of -0.125 if the AR(1) process is represented as an MA-infinity process , so only based on the white noise residuals."
   ]
  },
  {
   "cell_type": "code",
   "execution_count": 72,
   "metadata": {},
   "outputs": [
    {
     "data": {
      "text/plain": [
       "True"
      ]
     },
     "execution_count": 72,
     "metadata": {},
     "output_type": "execute_result"
    }
   ],
   "source": [
    "arma_process.isinvertible"
   ]
  },
  {
   "cell_type": "code",
   "execution_count": 73,
   "metadata": {},
   "outputs": [
    {
     "name": "stdout",
     "output_type": "stream",
     "text": [
      "[1.  0.5 0.  0.  0.  0.  0.  0.  0.  0.  0.  0.  0.  0.  0.  0.  0.  0.\n",
      " 0.  0.  0.  0.  0.  0.  0.  0.  0.  0.  0.  0.  0.  0.  0.  0.  0.  0.\n",
      " 0.  0.  0.  0. ]\n",
      "psi(3) 0.0\n"
     ]
    }
   ],
   "source": [
    "psi = arma_process.arma2ar(lags = 40)\n",
    "print(psi)\n",
    "print(\"psi(3)\",psi[3])"
   ]
  },
  {
   "cell_type": "markdown",
   "metadata": {},
   "source": [
    "As AR(p) and therefore also AR(1) processes are always invertible by definition, the result was expected."
   ]
  },
  {
   "cell_type": "markdown",
   "metadata": {},
   "source": [
    "## Problem 2 (10 points)\n",
    "In this problem, we will study analitical properties of MA(1) process using Python. Please consider the following MA(1) time series   \n",
    "\n",
    "$$x_t=(1+\\theta B)w_t,$$  \n",
    "where  $w_t$ is Gaussian White Noise with $Var(w_t)=1$. Here, $B$ denotes the backshift operator.\n",
    "\n",
    "(a) For $\\theta=0.5$, use ArmaProcess() method of statsmodels.tsa to create an object that corresponds to MA(1) process. Compute the ACF for lags between 0 and 40. Discuss the results; specifically, observe what you obtained for $\\rho(h)$ of the MA(1) process at lag $h=2$ and compare it with its analytical solution we derived in case of $\\theta=0.5$. Plot the ACF; make sure to indicate the value of $\\theta$ in the title. Finally, compare the ACF with the sample ACF you obtained in the Assignment 3. Discuss. \n",
    "\n",
    "(b) Use Python to check causality of the process in (a) and if causal, compute first 40 coefficients of the MA representation. Discuss whether you expected this result regarding causality. If causal, explain what these coefficients mean and comment on the value of the $\\psi_3$ coefficient of the MA representation.\n",
    "\n",
    "(c) Use Python to check invertibility of the process in (b) and if invertible, compute first 40 coefficients of the AR representation. Discuss. If invertible, comment on the $\\psi_3$ coefficient of the AR representation.\n",
    "\n",
    "(d) Repeat (a)-(c) for MA(1) with $\\theta=-0.5$. Answer the questions."
   ]
  },
  {
   "cell_type": "markdown",
   "metadata": {},
   "source": [
    "SOLUTION:"
   ]
  },
  {
   "cell_type": "markdown",
   "metadata": {},
   "source": [
    "(a)"
   ]
  },
  {
   "cell_type": "code",
   "execution_count": 74,
   "metadata": {},
   "outputs": [
    {
     "name": "stdout",
     "output_type": "stream",
     "text": [
      "Rho at lag 2:  0.0\n"
     ]
    },
    {
     "data": {
      "image/png": "[encoded data removed]",
      "text/plain": [
       "<Figure size 1152x288 with 1 Axes>"
      ]
     },
     "metadata": {
      "needs_background": "light"
     },
     "output_type": "display_data"
    }
   ],
   "source": [
    "# MA(1) with theta = 0.5\n",
    "phi = np.array([0.])\n",
    "theta = np.array([0.5])\n",
    "\n",
    "ar = np.r_[1, -phi]\n",
    "ma = np.r_[1, theta]\n",
    "sigma = 1\n",
    "\n",
    "arma_process = smt.ArmaProcess(ar, ma)\n",
    "\n",
    "h_max = 40\n",
    "rho = arma_process.acf(h_max)\n",
    "\n",
    "print(\"Rho at lag 2: \", rho[2])\n",
    "\n",
    "plt.figure(figsize=(16,4))\n",
    "plt.plot(rho,linestyle='None',marker='o')\n",
    "plt.ylim(-0.1, 1.1)\n",
    "plt.axhline(linewidth=1, color='k')\n",
    "plt.xlabel(\"Lag\")\n",
    "plt.ylabel(\"ACF\")\n",
    "plt.title(\"ACF of MA(1) with $\\\\theta = 0.5$\")\n",
    "plt.grid(True)"
   ]
  },
  {
   "cell_type": "markdown",
   "metadata": {},
   "source": [
    "The ACF of the MA(1) process with $\\theta = 0.5$ obviously equals 1 at lag zero (which is always the case as the correlation with itself is one). As given by definition, the ACF only has autocorrelations up to the order q of the MA-process (in that case 1). All lags > q have an autocorrelation of strictly zero."
   ]
  },
  {
   "cell_type": "markdown",
   "metadata": {},
   "source": [
    "As the MA(1) process is of order 1 (q = 1), the autocorrelation at lag 2 is equal to zero. This is in line with the analytical/theoretical solution that $\\rho(h) = 0$ for $h > 1$."
   ]
  },
  {
   "cell_type": "code",
   "execution_count": 75,
   "metadata": {},
   "outputs": [
    {
     "data": {
      "image/png": "[encoded data removed]",
      "text/plain": [
       "<Figure size 432x288 with 1 Axes>"
      ]
     },
     "metadata": {
      "needs_background": "light"
     },
     "output_type": "display_data"
    }
   ],
   "source": [
    "np.random.seed(12345678)\n",
    "n = int(400)\n",
    "phi = np.array([0])\n",
    "theta = np.array([0.5])\n",
    "sigma = 1\n",
    "AR = np.r_[1, -phi]\n",
    "MA = np.r_[1, theta]\n",
    "xt = smt.arma_generate_sample(ar = AR, ma = MA, scale = sigma, nsample = n)\n",
    "\n",
    "fig = plot_acf(xt,lags = 20)\n",
    "plt.xlabel(\"Lags\")\n",
    "plt.ylabel(\"Sample ACF\")\n",
    "plt.title(\"Sample ACF of MA(1) with $\\\\theta = 0.5$\")\n",
    "plt.show()"
   ]
  },
  {
   "cell_type": "markdown",
   "metadata": {},
   "source": [
    "Compared to the Sample ACF, the ACF of the MA(1) process correctly indicates auocorrelations equal to zero for all lags greater than the order q of the MA-process. Furthermore, the value for the autocorrelation is similar to the one in the Sample ACF at lag 1."
   ]
  },
  {
   "cell_type": "markdown",
   "metadata": {},
   "source": [
    "(b)"
   ]
  },
  {
   "cell_type": "code",
   "execution_count": 76,
   "metadata": {},
   "outputs": [
    {
     "data": {
      "text/plain": [
       "True"
      ]
     },
     "execution_count": 76,
     "metadata": {},
     "output_type": "execute_result"
    }
   ],
   "source": [
    "arma_process.isstationary"
   ]
  },
  {
   "cell_type": "code",
   "execution_count": 77,
   "metadata": {},
   "outputs": [
    {
     "name": "stdout",
     "output_type": "stream",
     "text": [
      "[1.  0.5 0.  0.  0.  0.  0.  0.  0.  0.  0.  0.  0.  0.  0.  0.  0.  0.\n",
      " 0.  0.  0.  0.  0.  0.  0.  0.  0.  0.  0.  0.  0.  0.  0.  0.  0.  0.\n",
      " 0.  0.  0.  0. ]\n",
      "psi(3) 0.0\n"
     ]
    }
   ],
   "source": [
    "psi = arma_process.arma2ma(lags = 40)\n",
    "print(psi)\n",
    "print(\"psi(3)\",psi[3])"
   ]
  },
  {
   "cell_type": "markdown",
   "metadata": {},
   "source": [
    "As MA(q) and therefore also MA(1) processes are always causal by definition, the result was expected."
   ]
  },
  {
   "cell_type": "markdown",
   "metadata": {},
   "source": [
    "(c)"
   ]
  },
  {
   "cell_type": "code",
   "execution_count": 78,
   "metadata": {},
   "outputs": [
    {
     "data": {
      "text/plain": [
       "True"
      ]
     },
     "execution_count": 78,
     "metadata": {},
     "output_type": "execute_result"
    }
   ],
   "source": [
    "arma_process.isinvertible"
   ]
  },
  {
   "cell_type": "code",
   "execution_count": 79,
   "metadata": {},
   "outputs": [
    {
     "name": "stdout",
     "output_type": "stream",
     "text": [
      "[ 1.00000000e+00 -5.00000000e-01  2.50000000e-01 -1.25000000e-01\n",
      "  6.25000000e-02 -3.12500000e-02  1.56250000e-02 -7.81250000e-03\n",
      "  3.90625000e-03 -1.95312500e-03  9.76562500e-04 -4.88281250e-04\n",
      "  2.44140625e-04 -1.22070312e-04  6.10351562e-05 -3.05175781e-05\n",
      "  1.52587891e-05 -7.62939453e-06  3.81469727e-06 -1.90734863e-06\n",
      "  9.53674316e-07 -4.76837158e-07  2.38418579e-07 -1.19209290e-07\n",
      "  5.96046448e-08 -2.98023224e-08  1.49011612e-08 -7.45058060e-09\n",
      "  3.72529030e-09 -1.86264515e-09  9.31322575e-10 -4.65661287e-10\n",
      "  2.32830644e-10 -1.16415322e-10  5.82076609e-11 -2.91038305e-11\n",
      "  1.45519152e-11 -7.27595761e-12  3.63797881e-12 -1.81898940e-12]\n",
      "psi(3) -0.125\n"
     ]
    }
   ],
   "source": [
    "psi = arma_process.arma2ar(lags = 40)\n",
    "print(psi)\n",
    "print(\"psi(3)\",psi[3])"
   ]
  },
  {
   "cell_type": "markdown",
   "metadata": {},
   "source": [
    "As the coefficient of the MA(1) process is $\\theta = 0.5$ and therefore $|\\theta| < 1$, which defines the invertibility requirement of an MA(1) process, the result that the process is invertible was expected."
   ]
  },
  {
   "cell_type": "markdown",
   "metadata": {},
   "source": [
    "An MA(1) process is called invertible, if it can be represented by $w_t = \\sum_{j=o}^{\\infty} \\pi_j*x_{t-j} = \\pi_0*x_t + \\pi_1*x_{t-1} + \\pi_2*x_{t-2} ...$, so it can be represented by an AR-infinity process. Furthermore, $\\pi_3 = -0.125$, which means that the realization $x_{t-3}$ affects the white noise residual $w_t$ with a weighting of -0.125 if the MA(1) process is represented as an AR-infinity process , so only based on past realizations."
   ]
  },
  {
   "cell_type": "markdown",
   "metadata": {},
   "source": [
    "(d)"
   ]
  },
  {
   "cell_type": "code",
   "execution_count": 80,
   "metadata": {},
   "outputs": [
    {
     "name": "stdout",
     "output_type": "stream",
     "text": [
      "Rho at lag 2:  0.0\n"
     ]
    },
    {
     "data": {
      "image/png": "[encoded data removed]",
      "text/plain": [
       "<Figure size 1152x288 with 1 Axes>"
      ]
     },
     "metadata": {
      "needs_background": "light"
     },
     "output_type": "display_data"
    }
   ],
   "source": [
    "# MA(1) with theta = -0.5\n",
    "phi = np.array([0.])\n",
    "theta = np.array([-0.5])\n",
    "\n",
    "ar = np.r_[1, -phi]\n",
    "ma = np.r_[1, theta]\n",
    "sigma = 1\n",
    "\n",
    "arma_process = smt.ArmaProcess(ar, ma)\n",
    "\n",
    "h_max = 40\n",
    "rho = arma_process.acf(h_max)\n",
    "\n",
    "print(\"Rho at lag 2: \", rho[2])\n",
    "\n",
    "plt.figure(figsize=(16,4))\n",
    "plt.plot(rho,linestyle='None',marker='o')\n",
    "plt.ylim(-1.1, 1.1)\n",
    "plt.axhline(linewidth=1, color='k')\n",
    "plt.xlabel(\"Lag\")\n",
    "plt.ylabel(\"ACF\")\n",
    "plt.title(\"ACF of MA(1) with $\\\\theta = -0.5$\")\n",
    "plt.grid(True)"
   ]
  },
  {
   "cell_type": "markdown",
   "metadata": {},
   "source": [
    "The ACF of the AR(1) process with $\\theta = -0.5$ obviously equals 1 at lag zero (which is always the case as the correlation with itself is one). As given by definition, the ACF only shows autocorrelations up to the order q of the MA-process (in that case 1). All lags > q have an autocorrelation of strictly zero."
   ]
  },
  {
   "cell_type": "markdown",
   "metadata": {},
   "source": [
    "As the MA(1) process is of order 1 (q = 1), the autocorrelation at lag 2 is qual to zero. This is in line with the analytical/theoretical solution that $\\rho(h) = 0$ for $h > 1$."
   ]
  },
  {
   "cell_type": "code",
   "execution_count": 54,
   "metadata": {},
   "outputs": [
    {
     "data": {
      "image/png": "[encoded data removed]",
      "text/plain": [
       "<Figure size 432x288 with 1 Axes>"
      ]
     },
     "metadata": {
      "needs_background": "light"
     },
     "output_type": "display_data"
    }
   ],
   "source": [
    "np.random.seed(12345678)\n",
    "n = int(400)\n",
    "phi = np.array([0])\n",
    "theta = np.array([-0.5])\n",
    "sigma = 1\n",
    "AR = np.r_[1, -phi]\n",
    "MA = np.r_[1, theta]\n",
    "xt = smt.arma_generate_sample(ar = AR, ma = MA, scale = sigma, nsample = n)\n",
    "\n",
    "fig = plot_acf(xt,lags = 20)\n",
    "plt.xlabel(\"Lags\")\n",
    "plt.ylabel(\"Sample ACF\")\n",
    "plt.title(\"Sample ACF of MA(1) with $\\\\theta = -0.5$\")\n",
    "plt.show()"
   ]
  },
  {
   "cell_type": "markdown",
   "metadata": {},
   "source": [
    "Compared to the Sample ACF, the ACF of the MA(1) process correctly indicates auocorrelations equal to zero for all lags greater than the order q of the MA-process. Furthermore, the value for the autocorrelation is similar to the one in the Sample ACF at lag 1."
   ]
  },
  {
   "cell_type": "code",
   "execution_count": 81,
   "metadata": {},
   "outputs": [
    {
     "data": {
      "text/plain": [
       "True"
      ]
     },
     "execution_count": 81,
     "metadata": {},
     "output_type": "execute_result"
    }
   ],
   "source": [
    "arma_process.isstationary"
   ]
  },
  {
   "cell_type": "code",
   "execution_count": 82,
   "metadata": {},
   "outputs": [
    {
     "name": "stdout",
     "output_type": "stream",
     "text": [
      "[ 1.  -0.5  0.   0.   0.   0.   0.   0.   0.   0.   0.   0.   0.   0.\n",
      "  0.   0.   0.   0.   0.   0.   0.   0.   0.   0.   0.   0.   0.   0.\n",
      "  0.   0.   0.   0.   0.   0.   0.   0.   0.   0.   0.   0. ]\n",
      "psi(3) 0.0\n"
     ]
    }
   ],
   "source": [
    "psi = arma_process.arma2ma(lags = 40)\n",
    "print(psi)\n",
    "print(\"psi(3)\",psi[3])"
   ]
  },
  {
   "cell_type": "markdown",
   "metadata": {},
   "source": [
    "As MA(q) and therefore also MA(1) processes are always causal by definition, the result was expected."
   ]
  },
  {
   "cell_type": "code",
   "execution_count": 83,
   "metadata": {},
   "outputs": [
    {
     "data": {
      "text/plain": [
       "True"
      ]
     },
     "execution_count": 83,
     "metadata": {},
     "output_type": "execute_result"
    }
   ],
   "source": [
    "arma_process.isinvertible"
   ]
  },
  {
   "cell_type": "code",
   "execution_count": 84,
   "metadata": {},
   "outputs": [
    {
     "name": "stdout",
     "output_type": "stream",
     "text": [
      "[1.00000000e+00 5.00000000e-01 2.50000000e-01 1.25000000e-01\n",
      " 6.25000000e-02 3.12500000e-02 1.56250000e-02 7.81250000e-03\n",
      " 3.90625000e-03 1.95312500e-03 9.76562500e-04 4.88281250e-04\n",
      " 2.44140625e-04 1.22070312e-04 6.10351562e-05 3.05175781e-05\n",
      " 1.52587891e-05 7.62939453e-06 3.81469727e-06 1.90734863e-06\n",
      " 9.53674316e-07 4.76837158e-07 2.38418579e-07 1.19209290e-07\n",
      " 5.96046448e-08 2.98023224e-08 1.49011612e-08 7.45058060e-09\n",
      " 3.72529030e-09 1.86264515e-09 9.31322575e-10 4.65661287e-10\n",
      " 2.32830644e-10 1.16415322e-10 5.82076609e-11 2.91038305e-11\n",
      " 1.45519152e-11 7.27595761e-12 3.63797881e-12 1.81898940e-12]\n",
      "psi(3) 0.125\n"
     ]
    }
   ],
   "source": [
    "psi = arma_process.arma2ar(lags = 40)\n",
    "print(psi)\n",
    "print(\"psi(3)\",psi[3])"
   ]
  },
  {
   "cell_type": "markdown",
   "metadata": {},
   "source": [
    "As the coefficient of the MA(1) process is $\\theta = -0.5$ and therefore $|\\theta| < 1$, which defines the invertibility requirement of an MA(1) process, the result that the process is invertible was expected."
   ]
  },
  {
   "cell_type": "markdown",
   "metadata": {},
   "source": [
    "An MA(1) process is called invertible, if it can be represented by $w_t = \\sum_{j=o}^{\\infty} \\pi_j*x_{t-j} = \\pi_0*x_t + \\pi_1*x_{t-1} + \\pi_2*x_{t-2} ...$, so it can be represented by an AR-infinity process. Furthermore, $\\pi_3 = 0.125$, which means that the realization $x_{t-3}$ affects the white noise residual $w_t$ with a weighting of 0.125 if the MA(1) process is represented as an AR-infinity process, so only based on past realizations."
   ]
  }
 ],
 "metadata": {
  "anaconda-cloud": {},
  "kernelspec": {
   "display_name": "Python 3",
   "language": "python",
   "name": "python3"
  },
  "language_info": {
   "codemirror_mode": {
    "name": "ipython",
    "version": 3
   },
   "file_extension": ".py",
   "mimetype": "text/x-python",
   "name": "python",
   "nbconvert_exporter": "python",
   "pygments_lexer": "ipython3",
   "version": "3.7.6"
  }
 },
 "nbformat": 4,
 "nbformat_minor": 4
}
