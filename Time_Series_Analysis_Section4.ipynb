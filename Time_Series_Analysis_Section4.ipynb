{
 "cells": [
  {
   "cell_type": "markdown",
   "metadata": {},
   "source": [
    "## ISMT S-136 Time Series Analysis with Python, Summer 2021   \n",
    "### Section 4"
   ]
  },
  {
   "cell_type": "code",
   "execution_count": 1,
   "metadata": {},
   "outputs": [],
   "source": [
    "import numpy as np\n",
    "import matplotlib.pyplot as plt\n",
    "import statsmodels.tsa.api as smt\n",
    "\n",
    "from statsmodels.graphics.tsaplots import plot_acf \n",
    "from statsmodels.tsa.stattools import acf"
   ]
  },
  {
   "cell_type": "markdown",
   "metadata": {},
   "source": [
    "## 1. Theoretical Properties of an AR(1) Process"
   ]
  },
  {
   "cell_type": "markdown",
   "metadata": {},
   "source": [
    "### Theoretical ACF of AR(1) with $\\phi = 0.9$"
   ]
  },
  {
   "cell_type": "code",
   "execution_count": 1,
   "metadata": {},
   "outputs": [
    {
     "ename": "NameError",
     "evalue": "name 'np' is not defined",
     "output_type": "error",
     "traceback": [
      "\u001b[0;31m---------------------------------------------------------------------------\u001b[0m",
      "\u001b[0;31mNameError\u001b[0m                                 Traceback (most recent call last)",
      "\u001b[0;32m<ipython-input-1-754d71ab2d9b>\u001b[0m in \u001b[0;36m<module>\u001b[0;34m\u001b[0m\n\u001b[1;32m      1\u001b[0m \u001b[0;31m# AR(1) with phi = 0.9\u001b[0m\u001b[0;34m\u001b[0m\u001b[0;34m\u001b[0m\u001b[0;34m\u001b[0m\u001b[0m\n\u001b[1;32m      2\u001b[0m \u001b[0;34m\u001b[0m\u001b[0m\n\u001b[0;32m----> 3\u001b[0;31m \u001b[0mphi\u001b[0m \u001b[0;34m=\u001b[0m \u001b[0mnp\u001b[0m\u001b[0;34m.\u001b[0m\u001b[0marray\u001b[0m\u001b[0;34m(\u001b[0m\u001b[0;34m[\u001b[0m\u001b[0;36m0.5\u001b[0m\u001b[0;34m]\u001b[0m\u001b[0;34m)\u001b[0m\u001b[0;34m\u001b[0m\u001b[0;34m\u001b[0m\u001b[0m\n\u001b[0m\u001b[1;32m      4\u001b[0m \u001b[0mtheta\u001b[0m \u001b[0;34m=\u001b[0m \u001b[0mnp\u001b[0m\u001b[0;34m.\u001b[0m\u001b[0marray\u001b[0m\u001b[0;34m(\u001b[0m\u001b[0;34m[\u001b[0m\u001b[0;36m0.\u001b[0m\u001b[0;34m]\u001b[0m\u001b[0;34m)\u001b[0m\u001b[0;34m\u001b[0m\u001b[0;34m\u001b[0m\u001b[0m\n\u001b[1;32m      5\u001b[0m \u001b[0;34m\u001b[0m\u001b[0m\n",
      "\u001b[0;31mNameError\u001b[0m: name 'np' is not defined"
     ]
    }
   ],
   "source": [
    "# AR(1) with phi = 0.9\n",
    "\n",
    "phi = np.array([0.9])\n",
    "theta = np.array([0.])\n",
    "\n",
    "ar = np.r_[1, -phi]\n",
    "ma = np.r_[1, theta]\n",
    "sigma = 1\n",
    "print(\"coefficients of the autoregressive operator:\", ar)\n",
    "print(\"coefficients of the moving average operator:\", ma)\n",
    "\n",
    "arma_process = smt.ArmaProcess(ar, ma)"
   ]
  },
  {
   "cell_type": "code",
   "execution_count": 3,
   "metadata": {},
   "outputs": [
    {
     "name": "stdout",
     "output_type": "stream",
     "text": [
      "Theoretical rho(h) of AR(1) with phi=+0.9:\n",
      " [1.         0.9        0.81       0.729      0.6561     0.59049\n",
      " 0.531441   0.4782969  0.43046721 0.38742049 0.34867844 0.3138106\n",
      " 0.28242954 0.25418658 0.22876792 0.20589113 0.18530202 0.16677182\n",
      " 0.15009464 0.13508517 0.12157665 0.10941899 0.09847709 0.08862938\n",
      " 0.07976644 0.0717898  0.06461082 0.05814974 0.05233476 0.04710129\n",
      " 0.04239116 0.03815204 0.03433684 0.03090315 0.02781284 0.02503156\n",
      " 0.0225284  0.02027556 0.018248   0.0164232 ]\n"
     ]
    },
    {
     "data": {
      "image/png": "[encoded data removed]",
      "text/plain": [
       "<Figure size 1152x288 with 1 Axes>"
      ]
     },
     "metadata": {
      "needs_background": "light"
     },
     "output_type": "display_data"
    }
   ],
   "source": [
    "h_max = 40\n",
    "rho = arma_process.acf(h_max)\n",
    "print(\"Theoretical rho(h) of AR(1) with phi=+0.9:\\n\",rho)\n",
    "\n",
    "plt.figure(figsize=(16,4))\n",
    "plt.plot(rho,linestyle='None',marker='o')\n",
    "plt.ylim(-0.05, 1.05)\n",
    "plt.axhline(linewidth=1, color='k')\n",
    "plt.xlabel(\"lag\")\n",
    "plt.ylabel(\"Theoretical ACF\")\n",
    "plt.title(\"Theoretical ACF of AR(1) with $\\phi=+0.9$\")\n",
    "plt.grid(True)"
   ]
  },
  {
   "cell_type": "markdown",
   "metadata": {},
   "source": [
    "### Representation of AR(1), $\\phi = 0.9$, as a linear process: "
   ]
  },
  {
   "cell_type": "markdown",
   "metadata": {},
   "source": [
    "$x_t=\\sum_{j=0}^\\infty \\underbrace{\\phi^j}_{\\psi_j} w_{t-j}$"
   ]
  },
  {
   "cell_type": "code",
   "execution_count": 4,
   "metadata": {},
   "outputs": [
    {
     "name": "stdout",
     "output_type": "stream",
     "text": [
      "psi:\n",
      " [1.         0.9        0.81       0.729      0.6561     0.59049\n",
      " 0.531441   0.4782969  0.43046721 0.38742049 0.34867844 0.3138106\n",
      " 0.28242954 0.25418658 0.22876792 0.20589113 0.18530202 0.16677182\n",
      " 0.15009464 0.13508517 0.12157665 0.10941899 0.09847709 0.08862938\n",
      " 0.07976644 0.0717898  0.06461082 0.05814974 0.05233476 0.04710129\n",
      " 0.04239116 0.03815204 0.03433684 0.03090315 0.02781284 0.02503156\n",
      " 0.0225284  0.02027556 0.018248   0.0164232 ]\n"
     ]
    }
   ],
   "source": [
    "psi = arma_process.arma2ma(lags=h_max)\n",
    "print(\"psi:\\n\",psi)"
   ]
  },
  {
   "cell_type": "markdown",
   "metadata": {},
   "source": [
    "### Causality of AR(1) with $\\phi = 0.9$"
   ]
  },
  {
   "cell_type": "code",
   "execution_count": 5,
   "metadata": {},
   "outputs": [
    {
     "data": {
      "text/plain": [
       "True"
      ]
     },
     "execution_count": 5,
     "metadata": {},
     "output_type": "execute_result"
    }
   ],
   "source": [
    "arma_process.isstationary"
   ]
  },
  {
   "cell_type": "markdown",
   "metadata": {},
   "source": [
    "### Theoretical ACF of AR(1) with $\\phi = -0.9$"
   ]
  },
  {
   "cell_type": "code",
   "execution_count": 6,
   "metadata": {},
   "outputs": [
    {
     "name": "stdout",
     "output_type": "stream",
     "text": [
      "coefficients of the autoregressive operator: [1.  0.9]\n",
      "coefficients of the moving average operator: [1. 0.]\n"
     ]
    }
   ],
   "source": [
    "# AR(1) with phi = -0.9\n",
    "\n",
    "phi = np.array([-0.9])\n",
    "theta = np.array([0.])\n",
    "\n",
    "ar = np.r_[1, -phi]\n",
    "ma = np.r_[1, theta]\n",
    "sigma = 1\n",
    "print(\"coefficients of the autoregressive operator:\", ar)\n",
    "print(\"coefficients of the moving average operator:\", ma)\n",
    "\n",
    "arma_process = smt.ArmaProcess(ar, ma)"
   ]
  },
  {
   "cell_type": "code",
   "execution_count": 7,
   "metadata": {},
   "outputs": [
    {
     "name": "stdout",
     "output_type": "stream",
     "text": [
      "Theoretical rho(h) of AR(1) with phi=-0.9:\n",
      " [ 1.         -0.9         0.81       -0.729       0.6561     -0.59049\n",
      "  0.531441   -0.4782969   0.43046721 -0.38742049  0.34867844 -0.3138106\n",
      "  0.28242954 -0.25418658  0.22876792 -0.20589113  0.18530202 -0.16677182\n",
      "  0.15009464 -0.13508517  0.12157665 -0.10941899  0.09847709 -0.08862938\n",
      "  0.07976644 -0.0717898   0.06461082 -0.05814974  0.05233476 -0.04710129\n",
      "  0.04239116 -0.03815204  0.03433684 -0.03090315  0.02781284 -0.02503156\n",
      "  0.0225284  -0.02027556  0.018248   -0.0164232 ]\n"
     ]
    },
    {
     "data": {
      "image/png": "[encoded data removed]",
      "text/plain": [
       "<Figure size 1152x288 with 1 Axes>"
      ]
     },
     "metadata": {
      "needs_background": "light"
     },
     "output_type": "display_data"
    }
   ],
   "source": [
    "h_max = 40\n",
    "rho = arma_process.acf(h_max)\n",
    "print(\"Theoretical rho(h) of AR(1) with phi=-0.9:\\n\",rho)\n",
    "\n",
    "plt.figure(figsize=(16,4))\n",
    "plt.plot(rho,linestyle='None',marker='o')\n",
    "plt.ylim(-1.05, 1.05)\n",
    "plt.axhline(linewidth=1, color='k')\n",
    "plt.xlabel(\"lag\")\n",
    "plt.ylabel(\"Theoretical ACF\")\n",
    "plt.title(\"Theoretical ACF of AR(1) with $\\phi=-0.9$\")\n",
    "plt.grid(True)"
   ]
  },
  {
   "cell_type": "markdown",
   "metadata": {},
   "source": [
    "### Representation of AR(1), $\\phi = -0.9$, as a linear process: "
   ]
  },
  {
   "cell_type": "markdown",
   "metadata": {},
   "source": [
    "$x_t=\\sum_{j=0}^\\infty \\underbrace{\\phi^j}_{\\psi_j} w_{t-j}$"
   ]
  },
  {
   "cell_type": "code",
   "execution_count": 8,
   "metadata": {},
   "outputs": [
    {
     "name": "stdout",
     "output_type": "stream",
     "text": [
      "psi:\n",
      " [ 1.         -0.9         0.81       -0.729       0.6561     -0.59049\n",
      "  0.531441   -0.4782969   0.43046721 -0.38742049  0.34867844 -0.3138106\n",
      "  0.28242954 -0.25418658  0.22876792 -0.20589113  0.18530202 -0.16677182\n",
      "  0.15009464 -0.13508517  0.12157665 -0.10941899  0.09847709 -0.08862938\n",
      "  0.07976644 -0.0717898   0.06461082 -0.05814974  0.05233476 -0.04710129\n",
      "  0.04239116 -0.03815204  0.03433684 -0.03090315  0.02781284 -0.02503156\n",
      "  0.0225284  -0.02027556  0.018248   -0.0164232 ]\n"
     ]
    }
   ],
   "source": [
    "psi = arma_process.arma2ma(lags=h_max)\n",
    "print(\"psi:\\n\",psi)"
   ]
  },
  {
   "cell_type": "markdown",
   "metadata": {},
   "source": [
    "### Causality of AR(1) with $\\phi = -0.9$"
   ]
  },
  {
   "cell_type": "code",
   "execution_count": 9,
   "metadata": {},
   "outputs": [
    {
     "data": {
      "text/plain": [
       "True"
      ]
     },
     "execution_count": 9,
     "metadata": {},
     "output_type": "execute_result"
    }
   ],
   "source": [
    "arma_process.isstationary"
   ]
  },
  {
   "cell_type": "markdown",
   "metadata": {},
   "source": [
    "## 2. Theoretical Properties of an MA(1) Process"
   ]
  },
  {
   "cell_type": "markdown",
   "metadata": {},
   "source": [
    "### Theoretical ACF of MA(1) with $\\theta = 0.9$"
   ]
  },
  {
   "cell_type": "code",
   "execution_count": 10,
   "metadata": {},
   "outputs": [
    {
     "name": "stdout",
     "output_type": "stream",
     "text": [
      "coefficients of the autoregressive operator: [1 0]\n",
      "coefficients of the moving average operator: [1.  0.9]\n"
     ]
    }
   ],
   "source": [
    "# MA(1) with theta = 0.9\n",
    "\n",
    "phi = np.array([0])\n",
    "theta = np.array([0.9])\n",
    "\n",
    "ar = np.r_[1, -phi]\n",
    "ma = np.r_[1, theta]\n",
    "sigma = 1\n",
    "print(\"coefficients of the autoregressive operator:\", ar)\n",
    "print(\"coefficients of the moving average operator:\", ma)\n",
    "\n",
    "arma_process = smt.ArmaProcess(ar, ma)"
   ]
  },
  {
   "cell_type": "code",
   "execution_count": 11,
   "metadata": {},
   "outputs": [
    {
     "name": "stdout",
     "output_type": "stream",
     "text": [
      "Theoretical rho(h) of MA(1) with theta=0.9:\n",
      " [1.         0.49723757 0.         0.         0.         0.\n",
      " 0.         0.         0.         0.         0.         0.\n",
      " 0.         0.         0.         0.         0.         0.\n",
      " 0.         0.         0.         0.         0.         0.\n",
      " 0.         0.         0.         0.         0.         0.\n",
      " 0.         0.         0.         0.         0.         0.\n",
      " 0.         0.         0.         0.        ]\n"
     ]
    },
    {
     "data": {
      "image/png": "[encoded data removed]",
      "text/plain": [
       "<Figure size 1152x288 with 1 Axes>"
      ]
     },
     "metadata": {
      "needs_background": "light"
     },
     "output_type": "display_data"
    }
   ],
   "source": [
    "h_max = 40\n",
    "rho = arma_process.acf(h_max)\n",
    "print(\"Theoretical rho(h) of MA(1) with theta=0.9:\\n\",rho)\n",
    "\n",
    "plt.figure(figsize=(16,4))\n",
    "plt.plot(rho,linestyle='None',marker='o')\n",
    "plt.ylim(-1.05, 1.05)\n",
    "plt.axhline(linewidth=1, color='k')\n",
    "plt.xlabel(\"lag\")\n",
    "plt.ylabel(\"Theoretical ACF\")\n",
    "plt.title(\"Theoretical ACF of MA(1) with $\\\\theta=+0.9$\")\n",
    "plt.grid(True)"
   ]
  },
  {
   "cell_type": "markdown",
   "metadata": {},
   "source": [
    "### Representation of MA(1), $\\theta = 0.9$, as a linear process: "
   ]
  },
  {
   "cell_type": "markdown",
   "metadata": {},
   "source": [
    "$x_t=\\sum_{j=0}^\\infty \\psi_j w_{t-j}$"
   ]
  },
  {
   "cell_type": "code",
   "execution_count": 12,
   "metadata": {},
   "outputs": [
    {
     "name": "stdout",
     "output_type": "stream",
     "text": [
      "psi:\n",
      " [1.  0.9 0.  0.  0.  0.  0.  0.  0.  0.  0.  0.  0.  0.  0.  0.  0.  0.\n",
      " 0.  0.  0.  0.  0.  0.  0.  0.  0.  0.  0.  0.  0.  0.  0.  0.  0.  0.\n",
      " 0.  0.  0.  0. ]\n"
     ]
    }
   ],
   "source": [
    "psi = arma_process.arma2ma(lags=h_max)\n",
    "print(\"psi:\\n\",psi)"
   ]
  },
  {
   "cell_type": "markdown",
   "metadata": {},
   "source": [
    "### Representation of MA(1), $\\theta = 0.9$, as an infinite AR representation:"
   ]
  },
  {
   "cell_type": "markdown",
   "metadata": {},
   "source": [
    "$w_t=\\sum_{j=0}^\\infty \\underbrace{(-\\theta)^j}_{\\pi_j} x_{t-j}$"
   ]
  },
  {
   "cell_type": "code",
   "execution_count": 13,
   "metadata": {},
   "outputs": [
    {
     "name": "stdout",
     "output_type": "stream",
     "text": [
      "pi:\n",
      " [ 1.         -0.9         0.81       -0.729       0.6561     -0.59049\n",
      "  0.531441   -0.4782969   0.43046721 -0.38742049  0.34867844 -0.3138106\n",
      "  0.28242954 -0.25418658  0.22876792 -0.20589113  0.18530202 -0.16677182\n",
      "  0.15009464 -0.13508517  0.12157665 -0.10941899  0.09847709 -0.08862938\n",
      "  0.07976644 -0.0717898   0.06461082 -0.05814974  0.05233476 -0.04710129\n",
      "  0.04239116 -0.03815204  0.03433684 -0.03090315  0.02781284 -0.02503156\n",
      "  0.0225284  -0.02027556  0.018248   -0.0164232 ]\n"
     ]
    }
   ],
   "source": [
    "pi = arma_process.arma2ar(lags=h_max)\n",
    "print(\"pi:\\n\",pi)"
   ]
  },
  {
   "cell_type": "markdown",
   "metadata": {},
   "source": [
    "### Invertibility of MA(1) with $\\theta = 0.9$"
   ]
  },
  {
   "cell_type": "code",
   "execution_count": 14,
   "metadata": {},
   "outputs": [
    {
     "data": {
      "text/plain": [
       "True"
      ]
     },
     "execution_count": 14,
     "metadata": {},
     "output_type": "execute_result"
    }
   ],
   "source": [
    "arma_process.isinvertible"
   ]
  },
  {
   "cell_type": "markdown",
   "metadata": {},
   "source": [
    "### Theoretical ACF of MA(1) with $\\theta = -0.9$"
   ]
  },
  {
   "cell_type": "code",
   "execution_count": 15,
   "metadata": {},
   "outputs": [
    {
     "name": "stdout",
     "output_type": "stream",
     "text": [
      "coefficients of the autoregressive operator: [1 0]\n",
      "coefficients of the moving average operator: [ 1.  -0.9]\n"
     ]
    }
   ],
   "source": [
    "# MA(1) with theta = -0.9\n",
    "\n",
    "phi = np.array([0])\n",
    "theta = np.array([-0.9])\n",
    "\n",
    "ar = np.r_[1, -phi]\n",
    "ma = np.r_[1, theta]\n",
    "sigma = 1\n",
    "print(\"coefficients of the autoregressive operator:\", ar)\n",
    "print(\"coefficients of the moving average operator:\", ma)\n",
    "\n",
    "arma_process = smt.ArmaProcess(ar, ma)"
   ]
  },
  {
   "cell_type": "code",
   "execution_count": 16,
   "metadata": {},
   "outputs": [
    {
     "name": "stdout",
     "output_type": "stream",
     "text": [
      "Theoretical rho(h) of MA(1) with theta=-0.9:\n",
      " [ 1.         -0.49723757  0.          0.          0.          0.\n",
      "  0.          0.          0.          0.          0.          0.\n",
      "  0.          0.          0.          0.          0.          0.\n",
      "  0.          0.          0.          0.          0.          0.\n",
      "  0.          0.          0.          0.          0.          0.\n",
      "  0.          0.          0.          0.          0.          0.\n",
      "  0.          0.          0.          0.        ]\n"
     ]
    },
    {
     "data": {
      "image/png": "[encoded data removed]",
      "text/plain": [
       "<Figure size 1152x288 with 1 Axes>"
      ]
     },
     "metadata": {
      "needs_background": "light"
     },
     "output_type": "display_data"
    }
   ],
   "source": [
    "h_max = 40\n",
    "rho = arma_process.acf(h_max)\n",
    "print(\"Theoretical rho(h) of MA(1) with theta=-0.9:\\n\",rho)\n",
    "\n",
    "plt.figure(figsize=(16,4))\n",
    "plt.plot(rho,linestyle='None',marker='o')\n",
    "plt.ylim(-1.05, 1.05)\n",
    "plt.axhline(linewidth=1, color='k')\n",
    "plt.xlabel(\"lag\")\n",
    "plt.ylabel(\"Theoretical ACF\")\n",
    "plt.title(\"Theoretical ACF of MA(1) with $\\\\theta=-0.9$\")\n",
    "plt.grid(True)"
   ]
  },
  {
   "cell_type": "markdown",
   "metadata": {},
   "source": [
    "### Representation of MA(1), $\\theta = -0.9$, as a linear process: "
   ]
  },
  {
   "cell_type": "markdown",
   "metadata": {},
   "source": [
    "$x_t=\\sum_{j=0}^\\infty \\psi_j w_{t-j}$"
   ]
  },
  {
   "cell_type": "code",
   "execution_count": 17,
   "metadata": {},
   "outputs": [
    {
     "name": "stdout",
     "output_type": "stream",
     "text": [
      "psi:\n",
      " [ 1.  -0.9  0.   0.   0.   0.   0.   0.   0.   0.   0.   0.   0.   0.\n",
      "  0.   0.   0.   0.   0.   0.   0.   0.   0.   0.   0.   0.   0.   0.\n",
      "  0.   0.   0.   0.   0.   0.   0.   0.   0.   0.   0.   0. ]\n"
     ]
    }
   ],
   "source": [
    "psi = arma_process.arma2ma(lags=h_max)\n",
    "print(\"psi:\\n\",psi)"
   ]
  },
  {
   "cell_type": "markdown",
   "metadata": {},
   "source": [
    "### Representation of MA(1), $\\theta = -0.9$, as an infinite AR:"
   ]
  },
  {
   "cell_type": "markdown",
   "metadata": {},
   "source": [
    "$w_t=\\sum_{j=0}^\\infty \\underbrace{(-\\theta)^j}_{\\pi_j} x_{t-j}$"
   ]
  },
  {
   "cell_type": "code",
   "execution_count": 18,
   "metadata": {},
   "outputs": [
    {
     "name": "stdout",
     "output_type": "stream",
     "text": [
      "psi:\n",
      " [1.         0.9        0.81       0.729      0.6561     0.59049\n",
      " 0.531441   0.4782969  0.43046721 0.38742049 0.34867844 0.3138106\n",
      " 0.28242954 0.25418658 0.22876792 0.20589113 0.18530202 0.16677182\n",
      " 0.15009464 0.13508517 0.12157665 0.10941899 0.09847709 0.08862938\n",
      " 0.07976644 0.0717898  0.06461082 0.05814974 0.05233476 0.04710129\n",
      " 0.04239116 0.03815204 0.03433684 0.03090315 0.02781284 0.02503156\n",
      " 0.0225284  0.02027556 0.018248   0.0164232 ]\n"
     ]
    }
   ],
   "source": [
    "pi = arma_process.arma2ar(lags=h_max)\n",
    "print(\"psi:\\n\",pi)"
   ]
  },
  {
   "cell_type": "markdown",
   "metadata": {},
   "source": [
    "### Invertibility of MA(1) with $\\theta = -0.9$"
   ]
  },
  {
   "cell_type": "code",
   "execution_count": 19,
   "metadata": {},
   "outputs": [
    {
     "data": {
      "text/plain": [
       "True"
      ]
     },
     "execution_count": 19,
     "metadata": {},
     "output_type": "execute_result"
    }
   ],
   "source": [
    "arma_process.isinvertible"
   ]
  },
  {
   "cell_type": "markdown",
   "metadata": {},
   "source": [
    "## 3. Theoretical Properties of an ARMA(2,4) Process"
   ]
  },
  {
   "cell_type": "code",
   "execution_count": 20,
   "metadata": {},
   "outputs": [
    {
     "name": "stdout",
     "output_type": "stream",
     "text": [
      "coefficients of the autoregressive operator: [ 1.  -0.2  0.3]\n",
      "coefficients of the moving average operator: [ 1.   0.1 -0.6  0.2  0.7]\n"
     ]
    }
   ],
   "source": [
    "# ARMA(2,4)\n",
    "\n",
    "phi = np.array([0.2, -0.3])\n",
    "theta = np.array([0.1, -0.6, 0.2, 0.7 ])\n",
    "\n",
    "\n",
    "ar = np.r_[1, -phi]\n",
    "ma = np.r_[1, theta]\n",
    "sigma = 1\n",
    "print(\"coefficients of the autoregressive operator:\", ar)\n",
    "print(\"coefficients of the moving average operator:\", ma)\n",
    "\n",
    "arma_process = smt.ArmaProcess(ar, ma)"
   ]
  },
  {
   "cell_type": "code",
   "execution_count": 21,
   "metadata": {},
   "outputs": [
    {
     "name": "stdout",
     "output_type": "stream",
     "text": [
      "Theoretical rho(h) of MA(1) with theta=0.9:\n",
      " [ 1.00000000e+00  7.45702449e-02 -6.87893272e-01 -1.35392654e-02\n",
      "  4.53629211e-01  9.47876218e-02 -1.17131239e-01 -5.18625343e-02\n",
      "  2.47668648e-02  2.05121333e-02 -3.32763279e-03 -6.81916654e-03\n",
      " -3.65543470e-04  1.97264127e-03  5.04191294e-04 -4.90954121e-04\n",
      " -2.49448213e-04  9.73965939e-05  9.43137825e-05 -1.03562216e-05\n",
      " -3.03653791e-05 -2.96620932e-06  8.51637186e-06  2.59313717e-06\n",
      " -2.03628412e-06 -1.18519798e-06  3.73845642e-07  4.30328521e-07\n",
      " -2.60879884e-08 -1.34316154e-07 -1.90368343e-08  3.64874794e-08\n",
      "  1.30085462e-08 -8.34453458e-09 -5.57147076e-09  1.38906622e-09\n",
      "  1.94925447e-09 -2.68689717e-11 -5.90150136e-10 -1.09969336e-10]\n"
     ]
    },
    {
     "data": {
      "image/png": "[encoded data removed]",
      "text/plain": [
       "<Figure size 1152x288 with 1 Axes>"
      ]
     },
     "metadata": {
      "needs_background": "light"
     },
     "output_type": "display_data"
    }
   ],
   "source": [
    "h_max = 40\n",
    "rho = arma_process.acf(h_max)\n",
    "print(\"Theoretical rho(h) of MA(1) with theta=0.9:\\n\",rho)\n",
    "\n",
    "plt.figure(figsize=(16,4))\n",
    "plt.plot(rho,linestyle='None',marker='o')\n",
    "plt.ylim(-1.05, 1.05)\n",
    "plt.axhline(linewidth=1, color='k')\n",
    "plt.xlabel(\"lag\")\n",
    "plt.ylabel(\"Theoretical ACF\")\n",
    "plt.title(\"Theoretical ACF of ARMA(2,4) with $\\phi_1=0.2,\\phi_2=-0.3$ and $\\\\theta_1=0.1,\\\\theta_2=-0.6, \\\\theta_3=0.2, \\\\theta_4=0.7$\")\n",
    "plt.grid(True)"
   ]
  },
  {
   "cell_type": "code",
   "execution_count": 22,
   "metadata": {},
   "outputs": [
    {
     "data": {
      "text/plain": [
       "True"
      ]
     },
     "execution_count": 22,
     "metadata": {},
     "output_type": "execute_result"
    }
   ],
   "source": [
    "arma_process.isstationary"
   ]
  },
  {
   "cell_type": "code",
   "execution_count": 23,
   "metadata": {},
   "outputs": [
    {
     "data": {
      "text/plain": [
       "True"
      ]
     },
     "execution_count": 23,
     "metadata": {},
     "output_type": "execute_result"
    }
   ],
   "source": [
    "arma_process.isinvertible"
   ]
  },
  {
   "cell_type": "code",
   "execution_count": 24,
   "metadata": {},
   "outputs": [
    {
     "name": "stdout",
     "output_type": "stream",
     "text": [
      "psi coefficients of AR representation:\n",
      " [ 1.         -0.3         0.93       -0.473      -0.0347     -0.25633\n",
      " -0.551587    0.2394007  -0.27933627  0.46132245  0.12449675  0.15263056\n",
      "  0.1627059  -0.27251732  0.00720143 -0.3036131  -0.02470849  0.00962482\n",
      "  0.03989404  0.21925636  0.01738177  0.11509946 -0.07285798 -0.08061034\n",
      " -0.07084089 -0.10728013  0.03534614  0.00269272  0.09198306  0.06044419\n",
      "  0.02386458  0.01359854 -0.06351809 -0.03257291 -0.05427847 -0.01093126\n",
      "  0.01950329  0.02514765  0.04936839  0.01390298]\n"
     ]
    }
   ],
   "source": [
    "pi = arma_process.arma2ar(lags=h_max)\n",
    "print(\"psi coefficients of AR representation:\\n\",pi)"
   ]
  },
  {
   "cell_type": "code",
   "execution_count": 25,
   "metadata": {},
   "outputs": [
    {
     "name": "stdout",
     "output_type": "stream",
     "text": [
      "psi coefficients of MA representation:\n",
      " [ 1.00000000e+00  3.00000000e-01 -8.40000000e-01 -5.80000000e-02\n",
      "  9.40400000e-01  2.05480000e-01 -2.41024000e-01 -1.09848800e-01\n",
      "  5.03374400e-02  4.30221280e-02 -6.49680640e-03 -1.42059997e-02\n",
      " -8.92158016e-04  4.08336830e-03  1.08432106e-03 -1.00814628e-03\n",
      " -5.26925575e-04  1.97058768e-04  1.97489426e-04 -1.96197452e-05\n",
      " -6.31707769e-05 -6.74823181e-06  1.76015867e-05  5.54478688e-06\n",
      " -4.17151863e-06 -2.49773979e-06  7.51907632e-07  8.99703464e-07\n",
      " -4.56315968e-08 -2.79037359e-07 -4.21179927e-08  7.52876090e-08\n",
      "  2.76929196e-08 -1.70476988e-08 -1.17174156e-08  2.77082651e-09\n",
      "  4.06938999e-09 -1.73699539e-11 -1.22429099e-09 -2.39647212e-10]\n"
     ]
    }
   ],
   "source": [
    "psi = arma_process.arma2ma(lags=h_max)\n",
    "print(\"psi coefficients of MA representation:\\n\",psi)"
   ]
  },
  {
   "cell_type": "code",
   "execution_count": 26,
   "metadata": {},
   "outputs": [
    {
     "data": {
      "image/png": "[encoded data removed]",
      "text/plain": [
       "<Figure size 1152x288 with 1 Axes>"
      ]
     },
     "metadata": {
      "needs_background": "light"
     },
     "output_type": "display_data"
    }
   ],
   "source": [
    "np.random.seed(123456789)\n",
    "n = int(100)\n",
    "\n",
    "xt = smt.arma_generate_sample(ar=ar, ma=ma, sigma=sigma, nsample=n) \n",
    "\n",
    "plt.figure(figsize=(16,4))\n",
    "plt.plot(xt,marker='o')\n",
    "plt.ylabel(\"$x_t$\",fontsize=14)\n",
    "plt.title(\"ARMA(2,4) with $\\phi_1=0.2,\\phi_2=-0.3$ and $\\\\theta_1=0.1,\\\\theta_2=-0.6, \\\\theta_3=0.2, \\\\theta_4=0.7$\")\n",
    "plt.grid(True)"
   ]
  },
  {
   "cell_type": "code",
   "execution_count": 27,
   "metadata": {},
   "outputs": [
    {
     "data": {
      "text/plain": [
       "Text(0.5, 1.0, 'ACF of ARMA(2,4)')"
      ]
     },
     "execution_count": 27,
     "metadata": {},
     "output_type": "execute_result"
    },
    {
     "data": {
      "image/png": "[encoded data removed]",
      "text/plain": [
       "<Figure size 432x288 with 1 Axes>"
      ]
     },
     "metadata": {
      "needs_background": "light"
     },
     "output_type": "display_data"
    }
   ],
   "source": [
    "fig = plot_acf(xt,lags = 20)\n",
    "plt.xlabel(\"lag\")\n",
    "plt.ylabel(\"ACF\")\n",
    "plt.title(\"ACF of ARMA(2,4)\")"
   ]
  },
  {
   "cell_type": "code",
   "execution_count": null,
   "metadata": {},
   "outputs": [],
   "source": []
  }
 ],
 "metadata": {
  "anaconda-cloud": {},
  "kernelspec": {
   "display_name": "Python 3",
   "language": "python",
   "name": "python3"
  },
  "language_info": {
   "codemirror_mode": {
    "name": "ipython",
    "version": 3
   },
   "file_extension": ".py",
   "mimetype": "text/x-python",
   "name": "python",
   "nbconvert_exporter": "python",
   "pygments_lexer": "ipython3",
   "version": "3.7.6"
  }
 },
 "nbformat": 4,
 "nbformat_minor": 4
}
